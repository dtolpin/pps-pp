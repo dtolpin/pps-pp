{
 "cells": [
  {
   "cell_type": "code",
   "execution_count": 1,
   "metadata": {},
   "outputs": [
    {
     "name": "stdout",
     "output_type": "stream",
     "text": [
      "WARNING:tensorflow:From /Users/dtolpin/venv/pps-ctr/lib/python3.6/site-packages/tensorflow/contrib/learn/python/learn/datasets/base.py:198: retry (from tensorflow.contrib.learn.python.learn.datasets.base) is deprecated and will be removed in a future version.\n",
      "Instructions for updating:\n",
      "Use the retry module or similar alternatives.\n"
     ]
    }
   ],
   "source": [
    "import os\n",
    "import numpy\n",
    "import numpy.random\n",
    "\n",
    "import tensorflow as tf\n",
    "import edward as ed\n",
    "from edward.models import Bernoulli, Exponential, Normal, Gamma, Empirical\n",
    "\n",
    "import matplotlib.pyplot as plt\n",
    "%matplotlib inline"
   ]
  },
  {
   "cell_type": "markdown",
   "metadata": {},
   "source": [
    "Simulated data:"
   ]
  },
  {
   "cell_type": "code",
   "execution_count": 2,
   "metadata": {},
   "outputs": [
    {
     "name": "stdout",
     "output_type": "stream",
     "text": [
      "Trend from 5.00 to 0.69\n",
      "Data: [ 2.  5.  1. 10.  2.  1.  1.  1.  9.  2.  9.  1.  6.  5.  2.  4.  2.  1.\n",
      "  1.  3.  1. 10.  1.  7.  8.  6.  4.  1.  2.  4.  1.  1.  2.  1.  4.  1.\n",
      "  1.  1.  3.  3.  1.  1.  2.  1.  1.  1.  2.  2.  1.  3.  3.  3.  2.  1.\n",
      "  1.  5.  1.  1.  1.  3.  1.  1.  2.  2.  2.  1.  1.  1.  1.  3.  2.  1.\n",
      "  2.  1.  2.  1.  2.  2.  1.  1.  1.  1.  4.  3.  1.  3.  2.  1.  2.  1.\n",
      "  1.  1.  1.  1.  1.  1.  1.  1.  2.  1.]\n",
      "[ 2  5  1 10  2  1  1  1  9  2  9  1  6  5  2  4  2  1  1  3  1 10  1  7\n",
      "  8  6  4  1  2  4  1  1  2  1  4  1  1  1  3  3  1  1  2  1  1  1  2  2\n",
      "  1  3  3  3  2  1  1  5  1  1  1  3  1  1  2  2  2  1  1  1  1  3  2  1\n",
      "  2  1  2  1  2  2  1  1  1  1  4  3  1  3  2  1  2  1  1  1  1  1  1  1\n",
      "  1  1  2  1]\n"
     ]
    }
   ],
   "source": [
    "PAGE_COUNT = 10\n",
    "PAGES_PER_SESSION_PRIOR = 5\n",
    "NUMBER_OF_SESSIONS = 100\n",
    "\n",
    "DECAY = 2.\n",
    "\n",
    "# Simulate some trend\n",
    "TREND = PAGES_PER_SESSION_PRIOR * numpy.exp(- numpy.arange(NUMBER_OF_SESSIONS) * DECAY \n",
    "                                            / NUMBER_OF_SESSIONS) \n",
    "         \n",
    "\n",
    "# Sample data around the trend\n",
    "DATA = numpy.minimum(PAGE_COUNT, \n",
    "                     numpy.maximum(1, numpy.round(numpy.random.exponential(TREND))))\n",
    "\n",
    "print(\"Trend from {:.2f} to {:.2f}\".format(TREND[0], TREND[-1]))\n",
    "print(\"Data:\", DATA)\n",
    "\n",
    "# Convert to tensor\n",
    "DATA = tf.convert_to_tensor(DATA, numpy.int32)\n",
    "with tf.Session() as s:\n",
    "    print(s.run(DATA))"
   ]
  },
  {
   "cell_type": "markdown",
   "metadata": {},
   "source": [
    "Let's define the model of clicking through a campaign:"
   ]
  },
  {
   "cell_type": "code",
   "execution_count": 3,
   "metadata": {},
   "outputs": [],
   "source": [
    "def update_beliefs(beliefs, i, j, bandwidth):\n",
    "    \n",
    "    # updates the beliefs with new evidence\n",
    "    update = tf.scatter_nd(tf.stack([tf.stack([i , j])]),\n",
    "                           tf.constant([1.]),\n",
    "                           beliefs.shape)\n",
    "    beliefs = beliefs + update\n",
    "    \n",
    "    # compute new evidence in the updated row\n",
    "    evidence = tf.reduce_sum(beliefs[i, :])\n",
    "    \n",
    "    # if the evidence is greater than the bandwidth,\n",
    "    # scale down\n",
    "    scale = bandwidth / evidence\n",
    "    beliefs = tf.cond(scale < 1.,\n",
    "                      lambda: beliefs * \n",
    "                              tf.exp(tf.scatter_nd(tf.stack([tf.stack([i, tf.constant(0)]),\n",
    "                                                             tf.stack([i, tf.constant(1)])]),\n",
    "                                                   tf.log(tf.stack([scale, scale])),\n",
    "                                                   beliefs.shape)),\n",
    "                      lambda: beliefs)\n",
    "    return beliefs"
   ]
  },
  {
   "cell_type": "code",
   "execution_count": 4,
   "metadata": {
    "scrolled": false
   },
   "outputs": [
    {
     "name": "stdout",
     "output_type": "stream",
     "text": [
      "[[3.         4.        ]\n",
      " [0.5714286  0.42857146]]\n"
     ]
    }
   ],
   "source": [
    "foo = update_beliefs(tf.constant([[3., 4.], [3., 3.]]), tf.constant(1), tf.constant(0), tf.constant(1.))\n",
    "with tf.Session() as s:\n",
    "    print(s.run(foo))"
   ]
  },
  {
   "cell_type": "code",
   "execution_count": 5,
   "metadata": {},
   "outputs": [],
   "source": [
    "def model(bandwidth, page_count, number_of_sessions, data):\n",
    "    churn_probability = 1 / PAGES_PER_SESSION_PRIOR\n",
    "    beliefs = tf.stack([2 * churn_probability * tf.ones(page_count),\n",
    "                        2 * (1 - churn_probability) * tf.ones(page_count)],\n",
    "                       axis=1)\n",
    " \n",
    "    def over_sessions(state, isession):\n",
    "       \n",
    "        def over_pages(beliefs, ipage, last_page):\n",
    "            last_page = tf.logical_or(tf.equal(ipage, data[isession] - 1),\n",
    "                                      tf.equal(ipage, page_count - 1))\n",
    "            beliefs = update_beliefs(beliefs, ipage, \n",
    "                                     tf.cond(last_page, lambda: 0, lambda: 1),\n",
    "                                     bandwidth) \n",
    "            return (beliefs, ipage + 1, last_page)\n",
    "\n",
    "        def continues(lefts, ipage, last_page):\n",
    "            return tf.logical_not(last_page)\n",
    "\n",
    " \n",
    "        beliefs, _ = state\n",
    "        beliefs, _, _ = tf.while_loop(continues, over_pages, (beliefs, 0, tf.constant(False)))\n",
    "        \n",
    "        return beliefs, beliefs\n",
    "    \n",
    "    _, beliefs = tf.scan(over_sessions, tf.range(number_of_sessions), (beliefs, beliefs))\n",
    "    \n",
    "    # Prepend to each session's lefts 0 and append 1 to get the correct number: never\n",
    "    # left after 0 pages, always left by reaching the end\n",
    "    scattered_lefts = Bernoulli(probs=beliefs[:, :, 0] / (beliefs[:, :, 0] + beliefs[:, :, 1]))\n",
    "    scattered_lefts = tf.concat([tf.zeros((scattered_lefts.shape[0], 1), dtype=tf.int32),\n",
    "                                 scattered_lefts[:, :-1],\n",
    "                                 tf.ones((scattered_lefts.shape[0], 1), dtype=tf.int32)],\n",
    "                                axis=1)\n",
    "    lefts = tf.argmax(scattered_lefts, axis=1)\n",
    "    \n",
    "    return Normal(tf.cast(lefts, dtype=tf.float32), scale=0.5)"
   ]
  },
  {
   "cell_type": "code",
   "execution_count": 6,
   "metadata": {
    "scrolled": false
   },
   "outputs": [
    {
     "name": "stdout",
     "output_type": "stream",
     "text": [
      "3.7018194961547852 2.1473103988170625\n"
     ]
    }
   ],
   "source": [
    "foo = model(20., PAGE_COUNT, NUMBER_OF_SESSIONS, DATA)\n",
    "with tf.Session() as s:\n",
    "    a = 0.\n",
    "    b = 0.\n",
    "    K = 100\n",
    "    for i in range(100):\n",
    "        res = s.run(foo)\n",
    "        a += res[:len(res)//4].mean()\n",
    "        b += res[-len(res)//4:].mean()\n",
    "    a /= K\n",
    "    b /= K\n",
    "    print(a, b)"
   ]
  },
  {
   "cell_type": "markdown",
   "metadata": {},
   "source": [
    "## Full model"
   ]
  },
  {
   "cell_type": "code",
   "execution_count": 7,
   "metadata": {},
   "outputs": [],
   "source": [
    "bandwidth = Exponential(0.05)\n",
    "pps = model(bandwidth, PAGE_COUNT, NUMBER_OF_SESSIONS, DATA)"
   ]
  },
  {
   "cell_type": "markdown",
   "metadata": {},
   "source": [
    "Let's just see we still can run it:"
   ]
  },
  {
   "cell_type": "code",
   "execution_count": 8,
   "metadata": {
    "scrolled": false
   },
   "outputs": [
    {
     "name": "stdout",
     "output_type": "stream",
     "text": [
      "[3.52843086 4.30622523 4.14333174 4.78082602 4.0049113  4.23182682\n",
      " 3.01103918 2.66171502 3.60788636 4.2115465  4.25786999 0.97385199\n",
      " 4.93612018 3.70585549 3.72706109 2.67160873 3.64784743 4.51660697\n",
      " 3.04817194 3.2430486  1.71734742 4.72047197 1.82122263 7.13798501\n",
      " 4.21300018 5.22982883 4.70092285 3.3750795  2.57409145 3.89663187\n",
      " 2.24662234 2.10621402 1.39891122 1.97434364 3.43949176 2.61049151\n",
      " 1.84092662 1.43143365 3.00309854 2.73349021 1.31650637 2.05046834\n",
      " 3.19836616 2.08061858 1.5287165  2.04260082 1.92862712 2.81606605\n",
      " 1.92731714 1.79837242 2.31738225 2.78452327 2.67583081 2.43817768\n",
      " 2.34534269 1.74398236 2.90815648 1.85725644 1.72619004 1.58633835\n",
      " 1.33987107 2.46599867 2.10975792 1.29805822 1.61985851 0.8879691\n",
      " 3.38104306 1.58808626 1.6521566  2.17480413 2.18772185 1.61344308\n",
      " 3.20115997 2.7165592  2.02319593 1.12263737 1.35030053 3.09541939\n",
      " 2.44869104 1.20227835 1.82532458 2.01198247 1.73009856 4.40043453\n",
      " 2.83109556 3.26716626 2.25806324 1.73984808 1.89622455 1.3966622\n",
      " 3.08357884 2.16639819 1.40053746 1.4567204  1.71090572 1.63011534\n",
      " 0.9677439  2.13408623 1.83853454 1.66171287]\n"
     ]
    },
    {
     "data": {
      "image/png": "[encoded data removed]",
      "text/plain": [
       "<Figure size 432x288 with 1 Axes>"
      ]
     },
     "metadata": {},
     "output_type": "display_data"
    }
   ],
   "source": [
    "with tf.Session() as s:\n",
    "    resum = numpy.zeros(DATA.shape[0])\n",
    "    K = 10\n",
    "    for i in range(K):\n",
    "        res = s.run(pps)\n",
    "        resum += res\n",
    "    resum /= K\n",
    "    print(resum)\n",
    "    d = 10\n",
    "    plt.plot([resum[i:i+d].mean() for i in range(len(resum))])"
   ]
  },
  {
   "cell_type": "markdown",
   "metadata": {},
   "source": [
    "## MH Monte Carlo\n",
    "\n",
    "Slow but should work."
   ]
  },
  {
   "cell_type": "code",
   "execution_count": 9,
   "metadata": {},
   "outputs": [],
   "source": [
    "N = 1000\n",
    "with tf.variable_scope(\"importance\", reuse=tf.AUTO_REUSE):\n",
    "    sampled_bandwidth = Empirical(params=tf.get_variable(\n",
    "        \"sampled_bandwidth\", \n",
    "        [N], \n",
    "        initializer=tf.constant_initializer(10.)))\n",
    "    proposed_bandwidth = Normal(loc=sampled_bandwidth, scale=1.)\n",
    "\n",
    "    mh_inference = ed.MetropolisHastings({bandwidth: sampled_bandwidth}, \n",
    "                                         {bandwidth: proposed_bandwidth},\n",
    "                                         data={pps: tf.cast(DATA, tf.float32)})"
   ]
  },
  {
   "cell_type": "code",
   "execution_count": 10,
   "metadata": {
    "scrolled": false
   },
   "outputs": [
    {
     "name": "stdout",
     "output_type": "stream",
     "text": [
      "1000/1000 [100%] ██████████████████████████████ Elapsed: 38s | Acceptance Rate: 0.357\n",
      "posterior: mean=7.4226, stddev=3.9801\n"
     ]
    }
   ],
   "source": [
    "mh_inference.run()\n",
    "\n",
    "sess = ed.get_session()\n",
    "mean, stddev = sess.run([sampled_bandwidth.mean(), sampled_bandwidth.stddev()])\n",
    "print(\"posterior: mean={:.4f}, stddev={:.4f}\".format(mean, stddev))"
   ]
  },
  {
   "cell_type": "code",
   "execution_count": null,
   "metadata": {},
   "outputs": [],
   "source": [
    "_ = plt.hist(sess.run(sampled_bandwidth.sample(1000)), density=True)\n",
    "_ = plt.xlabel(\"bandwidth\")"
   ]
  },
  {
   "cell_type": "markdown",
   "metadata": {},
   "source": [
    "\n",
    "## Variational Inference\n"
   ]
  },
  {
   "cell_type": "code",
   "execution_count": null,
   "metadata": {},
   "outputs": [],
   "source": [
    "with tf.variable_scope(\"variational\", reuse=tf.AUTO_REUSE):\n",
    "    shape = tf.get_variable(\"shape\", (), initializer=tf.constant_initializer(1.))\n",
    "    scale = tf.get_variable(\"scale\", (), initializer=tf.constant_initializer(20.))\n",
    "    qbandwidth = Gamma(tf.nn.softplus(shape), 1. / tf.nn.softplus(scale))\n",
    "\n",
    "variational_inference = ed.KLqp({bandwidth: qbandwidth}, \n",
    "                                data={pps: tf.cast(DATA, tf.float32)})"
   ]
  },
  {
   "cell_type": "code",
   "execution_count": null,
   "metadata": {},
   "outputs": [],
   "source": [
    "variational_inference.run(n_iter=1000)"
   ]
  },
  {
   "cell_type": "code",
   "execution_count": null,
   "metadata": {
    "scrolled": false
   },
   "outputs": [],
   "source": [
    "alpha = qbandwidth.concentration.eval()\n",
    "beta = qbandwidth.rate.eval()\n",
    "mean = alpha / beta\n",
    "stddev = numpy.sqrt(mean / beta)\n",
    "print(\"posterior: mean={:.4f} stddev={:.4f}\".format(mean, stddev))"
   ]
  },
  {
   "cell_type": "code",
   "execution_count": null,
   "metadata": {},
   "outputs": [],
   "source": [
    "_ = plt.hist(qbandwidth.sample(1000).eval(), density=True)\n",
    "_ = plt.xlabel(\"bandwidth\")"
   ]
  }
 ],
 "metadata": {
  "kernelspec": {
   "display_name": "Python 3",
   "language": "python",
   "name": "python3"
  },
  "language_info": {
   "codemirror_mode": {
    "name": "ipython",
    "version": 3
   },
   "file_extension": ".py",
   "mimetype": "text/x-python",
   "name": "python",
   "nbconvert_exporter": "python",
   "pygments_lexer": "ipython3",
   "version": "3.6.5"
  }
 },
 "nbformat": 4,
 "nbformat_minor": 2
}
